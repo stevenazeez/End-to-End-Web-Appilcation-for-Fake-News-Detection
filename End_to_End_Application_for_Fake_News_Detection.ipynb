{
  "nbformat": 4,
  "nbformat_minor": 0,
  "metadata": {
    "colab": {
      "name": "End-to-End Application for Fake News Detection.ipynb",
      "provenance": [],
      "authorship_tag": "ABX9TyMxQJiursG7KVtQTbns4XSr"
    },
    "kernelspec": {
      "name": "python3",
      "display_name": "Python 3"
    },
    "language_info": {
      "name": "python"
    }
  },
  "cells": [
    {
      "cell_type": "markdown",
      "metadata": {
        "id": "ohAtnG2FGpym"
      },
      "source": [
        "*Welcome!*"
      ]
    },
    {
      "cell_type": "markdown",
      "metadata": {
        "id": "4esm8XvKG8UF"
      },
      "source": [
        "# **End-to-End Fake News Detection Application** \n",
        "\n",
        ">Using news headlines, we aim to identify relationships between false news headlines to train a machine learning model that can decipher whether a piece of information is fake or real."
      ]
    },
    {
      "cell_type": "code",
      "metadata": {
        "id": "fIlQHv_5Ojgz"
      },
      "source": [
        "import pandas as pd\n",
        "import numpy as np\n",
        "from sklearn.feature_extraction.text import CountVectorizer \n",
        "from sklearn.model_selection import train_test_split\n",
        "from sklearn.naive_bayes import MultinomialNB"
      ],
      "execution_count": 1,
      "outputs": []
    },
    {
      "cell_type": "markdown",
      "metadata": {
        "id": "wrJd0k6kilHn"
      },
      "source": [
        "Loading Dataset\n",
        ">Data Source- Kaggle"
      ]
    },
    {
      "cell_type": "code",
      "metadata": {
        "id": "uxZHfky2ihIv"
      },
      "source": [
        "news_data = pd.read_csv(\"/content/fake_or_real_news.csv\")"
      ],
      "execution_count": 2,
      "outputs": []
    },
    {
      "cell_type": "code",
      "metadata": {
        "colab": {
          "base_uri": "https://localhost:8080/",
          "height": 204
        },
        "id": "RlYar-7_i7ao",
        "outputId": "7d3317c5-0452-46dd-f46e-0de45fecb130"
      },
      "source": [
        "news_data.head()"
      ],
      "execution_count": 5,
      "outputs": [
        {
          "output_type": "execute_result",
          "data": {
            "text/html": [
              "<div>\n",
              "<style scoped>\n",
              "    .dataframe tbody tr th:only-of-type {\n",
              "        vertical-align: middle;\n",
              "    }\n",
              "\n",
              "    .dataframe tbody tr th {\n",
              "        vertical-align: top;\n",
              "    }\n",
              "\n",
              "    .dataframe thead th {\n",
              "        text-align: right;\n",
              "    }\n",
              "</style>\n",
              "<table border=\"1\" class=\"dataframe\">\n",
              "  <thead>\n",
              "    <tr style=\"text-align: right;\">\n",
              "      <th></th>\n",
              "      <th>Unnamed: 0</th>\n",
              "      <th>title</th>\n",
              "      <th>text</th>\n",
              "      <th>label</th>\n",
              "    </tr>\n",
              "  </thead>\n",
              "  <tbody>\n",
              "    <tr>\n",
              "      <th>0</th>\n",
              "      <td>8476</td>\n",
              "      <td>You Can Smell Hillary’s Fear</td>\n",
              "      <td>Daniel Greenfield, a Shillman Journalism Fello...</td>\n",
              "      <td>FAKE</td>\n",
              "    </tr>\n",
              "    <tr>\n",
              "      <th>1</th>\n",
              "      <td>10294</td>\n",
              "      <td>Watch The Exact Moment Paul Ryan Committed Pol...</td>\n",
              "      <td>Google Pinterest Digg Linkedin Reddit Stumbleu...</td>\n",
              "      <td>FAKE</td>\n",
              "    </tr>\n",
              "    <tr>\n",
              "      <th>2</th>\n",
              "      <td>3608</td>\n",
              "      <td>Kerry to go to Paris in gesture of sympathy</td>\n",
              "      <td>U.S. Secretary of State John F. Kerry said Mon...</td>\n",
              "      <td>REAL</td>\n",
              "    </tr>\n",
              "    <tr>\n",
              "      <th>3</th>\n",
              "      <td>10142</td>\n",
              "      <td>Bernie supporters on Twitter erupt in anger ag...</td>\n",
              "      <td>— Kaydee King (@KaydeeKing) November 9, 2016 T...</td>\n",
              "      <td>FAKE</td>\n",
              "    </tr>\n",
              "    <tr>\n",
              "      <th>4</th>\n",
              "      <td>875</td>\n",
              "      <td>The Battle of New York: Why This Primary Matters</td>\n",
              "      <td>It's primary day in New York and front-runners...</td>\n",
              "      <td>REAL</td>\n",
              "    </tr>\n",
              "  </tbody>\n",
              "</table>\n",
              "</div>"
            ],
            "text/plain": [
              "   Unnamed: 0  ... label\n",
              "0        8476  ...  FAKE\n",
              "1       10294  ...  FAKE\n",
              "2        3608  ...  REAL\n",
              "3       10142  ...  FAKE\n",
              "4         875  ...  REAL\n",
              "\n",
              "[5 rows x 4 columns]"
            ]
          },
          "metadata": {},
          "execution_count": 5
        }
      ]
    },
    {
      "cell_type": "code",
      "metadata": {
        "colab": {
          "base_uri": "https://localhost:8080/"
        },
        "id": "UTLmrEdgj6DS",
        "outputId": "2e00a77e-1f88-407c-8da5-69a4ab72fd73"
      },
      "source": [
        "news_data.info()"
      ],
      "execution_count": 7,
      "outputs": [
        {
          "output_type": "stream",
          "name": "stdout",
          "text": [
            "<class 'pandas.core.frame.DataFrame'>\n",
            "RangeIndex: 6335 entries, 0 to 6334\n",
            "Data columns (total 4 columns):\n",
            " #   Column      Non-Null Count  Dtype \n",
            "---  ------      --------------  ----- \n",
            " 0   Unnamed: 0  6335 non-null   int64 \n",
            " 1   title       6335 non-null   object\n",
            " 2   text        6335 non-null   object\n",
            " 3   label       6335 non-null   object\n",
            "dtypes: int64(1), object(3)\n",
            "memory usage: 198.1+ KB\n"
          ]
        }
      ]
    },
    {
      "cell_type": "markdown",
      "metadata": {
        "id": "JDaqiE_aoIbA"
      },
      "source": [
        "This dataset is quite vast, and luckily there are no missing/null values."
      ]
    },
    {
      "cell_type": "code",
      "metadata": {
        "id": "H2sBevghoPUj"
      },
      "source": [
        "x = np.array(news_data['title'])\n",
        "y = np.array(news_data['label'])"
      ],
      "execution_count": 8,
      "outputs": []
    },
    {
      "cell_type": "markdown",
      "metadata": {
        "id": "swFRUYr3qYYf"
      },
      "source": [
        "## Naive Bayes - Multinomial"
      ]
    },
    {
      "cell_type": "code",
      "metadata": {
        "id": "JuB6RgFEn7ma"
      },
      "source": [
        "CV = CountVectorizer()"
      ],
      "execution_count": 9,
      "outputs": []
    },
    {
      "cell_type": "code",
      "metadata": {
        "id": "aDb9DbsHpW0D"
      },
      "source": [
        "x = CV.fit_transform(x)"
      ],
      "execution_count": 12,
      "outputs": []
    },
    {
      "cell_type": "code",
      "metadata": {
        "id": "u9O_OtxEpqhl"
      },
      "source": [
        "xtrain, xtest, ytrain, ytest = train_test_split(x,y, test_size=0.2, random_state = 42)"
      ],
      "execution_count": 15,
      "outputs": []
    },
    {
      "cell_type": "code",
      "metadata": {
        "id": "3ztcUzBoqRZO"
      },
      "source": [
        "model = MultinomialNB()"
      ],
      "execution_count": 18,
      "outputs": []
    },
    {
      "cell_type": "code",
      "metadata": {
        "colab": {
          "base_uri": "https://localhost:8080/"
        },
        "id": "iBKi9c0Xqyxx",
        "outputId": "f69a2f27-38fa-41a9-f21b-22ccaa5746db"
      },
      "source": [
        "model.fit(xtrain,ytrain)"
      ],
      "execution_count": 19,
      "outputs": [
        {
          "output_type": "execute_result",
          "data": {
            "text/plain": [
              "MultinomialNB(alpha=1.0, class_prior=None, fit_prior=True)"
            ]
          },
          "metadata": {},
          "execution_count": 19
        }
      ]
    },
    {
      "cell_type": "code",
      "metadata": {
        "colab": {
          "base_uri": "https://localhost:8080/"
        },
        "id": "49NYtSQhq9gw",
        "outputId": "7b11d447-5757-496c-e710-4d5eae05ff9e"
      },
      "source": [
        "AccuracyScore = model.score(xtest,ytest)\n",
        "print (AccuracyScore)"
      ],
      "execution_count": 21,
      "outputs": [
        {
          "output_type": "stream",
          "name": "stdout",
          "text": [
            "0.8074191002367798\n"
          ]
        }
      ]
    },
    {
      "cell_type": "markdown",
      "metadata": {
        "id": "xFnFjAW8siiQ"
      },
      "source": [
        "### **Model Test**\n",
        ">To put our trained model to the test, I'll write down the headline of any news article discovered on Google News and check if our model predicts whether or not the news is true"
      ]
    },
    {
      "cell_type": "code",
      "metadata": {
        "id": "831M7HQqxrT_"
      },
      "source": [
        "headline_news = \"Garda Operation targets gang behind HSE cyber attack\"\n",
        "data_test = CV.transform([headline_news]).toarray()"
      ],
      "execution_count": 23,
      "outputs": []
    },
    {
      "cell_type": "code",
      "metadata": {
        "colab": {
          "base_uri": "https://localhost:8080/"
        },
        "id": "a5VE8g1DrMk3",
        "outputId": "4e01e822-89b2-4880-873f-0869b7848a9b"
      },
      "source": [
        "output = model.predict(data_test)\n",
        "print(output)"
      ],
      "execution_count": 25,
      "outputs": [
        {
          "output_type": "stream",
          "name": "stdout",
          "text": [
            "['REAL']\n"
          ]
        }
      ]
    },
    {
      "cell_type": "markdown",
      "metadata": {
        "id": "MNYx3_jw0vQ_"
      },
      "source": [
        "To test the trained model with a fake data, I'll write down a fake headline "
      ]
    },
    {
      "cell_type": "code",
      "metadata": {
        "id": "CsIoUcR-1Ba5"
      },
      "source": [
        "headline_news2 = \"Joe Biden is now the Prime Minister of United Kingdom\"\n",
        "data_test2 = CV.transform([headline_news2]).toarray()"
      ],
      "execution_count": 28,
      "outputs": []
    },
    {
      "cell_type": "code",
      "metadata": {
        "colab": {
          "base_uri": "https://localhost:8080/"
        },
        "id": "WOoPYPaU1LXL",
        "outputId": "179cdb5d-b4eb-4295-a048-c95b31162bd1"
      },
      "source": [
        "output2 = model.predict(data_test2)\n",
        "print(output2)"
      ],
      "execution_count": 29,
      "outputs": [
        {
          "output_type": "stream",
          "name": "stdout",
          "text": [
            "['FAKE']\n"
          ]
        }
      ]
    },
    {
      "cell_type": "markdown",
      "metadata": {
        "id": "HmADzmia1kp7"
      },
      "source": [
        "Based on the resulting output, we can conclude that our trained model works and predict correctly. Now Let's build an end to end application  for news detection"
      ]
    },
    {
      "cell_type": "markdown",
      "metadata": {
        "id": "-bPAV8ld2E7V"
      },
      "source": [
        "## **End-to-End Detection Application**\n",
        "\n",
        "To develop an end-to-end application for the machine learning model to detect bogus news in real-time, I'll be using Python's streamlit module."
      ]
    },
    {
      "cell_type": "code",
      "metadata": {
        "colab": {
          "base_uri": "https://localhost:8080/",
          "height": 1000
        },
        "id": "f8DrP1w82QXh",
        "outputId": "e610a72d-c25d-43df-9667-667995ae2249"
      },
      "source": [
        "pip install streamlit"
      ],
      "execution_count": 31,
      "outputs": [
        {
          "output_type": "stream",
          "name": "stdout",
          "text": [
            "Collecting streamlit\n",
            "  Downloading streamlit-0.88.0-py2.py3-none-any.whl (8.0 MB)\n",
            "\u001b[K     |████████████████████████████████| 8.0 MB 14.5 MB/s \n",
            "\u001b[?25hRequirement already satisfied: requests in /usr/local/lib/python3.7/dist-packages (from streamlit) (2.23.0)\n",
            "Collecting base58\n",
            "  Downloading base58-2.1.0-py3-none-any.whl (5.6 kB)\n",
            "Collecting pydeck>=0.1.dev5\n",
            "  Downloading pydeck-0.7.0-py2.py3-none-any.whl (4.3 MB)\n",
            "\u001b[K     |████████████████████████████████| 4.3 MB 56.9 MB/s \n",
            "\u001b[?25hRequirement already satisfied: tornado>=5.0 in /usr/local/lib/python3.7/dist-packages (from streamlit) (5.1.1)\n",
            "Requirement already satisfied: cachetools>=4.0 in /usr/local/lib/python3.7/dist-packages (from streamlit) (4.2.2)\n",
            "Requirement already satisfied: altair>=3.2.0 in /usr/local/lib/python3.7/dist-packages (from streamlit) (4.1.0)\n",
            "Requirement already satisfied: pandas>=0.21.0 in /usr/local/lib/python3.7/dist-packages (from streamlit) (1.1.5)\n",
            "Requirement already satisfied: protobuf!=3.11,>=3.6.0 in /usr/local/lib/python3.7/dist-packages (from streamlit) (3.17.3)\n",
            "Requirement already satisfied: tzlocal in /usr/local/lib/python3.7/dist-packages (from streamlit) (1.5.1)\n",
            "Requirement already satisfied: python-dateutil in /usr/local/lib/python3.7/dist-packages (from streamlit) (2.8.2)\n",
            "Requirement already satisfied: pyarrow in /usr/local/lib/python3.7/dist-packages (from streamlit) (3.0.0)\n",
            "Requirement already satisfied: packaging in /usr/local/lib/python3.7/dist-packages (from streamlit) (21.0)\n",
            "Requirement already satisfied: toml in /usr/local/lib/python3.7/dist-packages (from streamlit) (0.10.2)\n",
            "Requirement already satisfied: attrs in /usr/local/lib/python3.7/dist-packages (from streamlit) (21.2.0)\n",
            "Requirement already satisfied: pillow>=6.2.0 in /usr/local/lib/python3.7/dist-packages (from streamlit) (7.1.2)\n",
            "Collecting blinker\n",
            "  Downloading blinker-1.4.tar.gz (111 kB)\n",
            "\u001b[K     |████████████████████████████████| 111 kB 63.5 MB/s \n",
            "\u001b[?25hCollecting gitpython!=3.1.19\n",
            "  Downloading GitPython-3.1.18-py3-none-any.whl (170 kB)\n",
            "\u001b[K     |████████████████████████████████| 170 kB 56.7 MB/s \n",
            "\u001b[?25hCollecting validators\n",
            "  Downloading validators-0.18.2-py3-none-any.whl (19 kB)\n",
            "Requirement already satisfied: astor in /usr/local/lib/python3.7/dist-packages (from streamlit) (0.8.1)\n",
            "Requirement already satisfied: click<8.0,>=7.0 in /usr/local/lib/python3.7/dist-packages (from streamlit) (7.1.2)\n",
            "Collecting watchdog\n",
            "  Downloading watchdog-2.1.5-py3-none-manylinux2014_x86_64.whl (75 kB)\n",
            "\u001b[K     |████████████████████████████████| 75 kB 4.3 MB/s \n",
            "\u001b[?25hRequirement already satisfied: numpy in /usr/local/lib/python3.7/dist-packages (from streamlit) (1.19.5)\n",
            "Requirement already satisfied: toolz in /usr/local/lib/python3.7/dist-packages (from altair>=3.2.0->streamlit) (0.11.1)\n",
            "Requirement already satisfied: jinja2 in /usr/local/lib/python3.7/dist-packages (from altair>=3.2.0->streamlit) (2.11.3)\n",
            "Requirement already satisfied: entrypoints in /usr/local/lib/python3.7/dist-packages (from altair>=3.2.0->streamlit) (0.3)\n",
            "Requirement already satisfied: jsonschema in /usr/local/lib/python3.7/dist-packages (from altair>=3.2.0->streamlit) (2.6.0)\n",
            "Collecting gitdb<5,>=4.0.1\n",
            "  Downloading gitdb-4.0.7-py3-none-any.whl (63 kB)\n",
            "\u001b[K     |████████████████████████████████| 63 kB 1.8 MB/s \n",
            "\u001b[?25hRequirement already satisfied: typing-extensions>=3.7.4.0 in /usr/local/lib/python3.7/dist-packages (from gitpython!=3.1.19->streamlit) (3.7.4.3)\n",
            "Collecting smmap<5,>=3.0.1\n",
            "  Downloading smmap-4.0.0-py2.py3-none-any.whl (24 kB)\n",
            "Requirement already satisfied: pytz>=2017.2 in /usr/local/lib/python3.7/dist-packages (from pandas>=0.21.0->streamlit) (2018.9)\n",
            "Requirement already satisfied: six>=1.9 in /usr/local/lib/python3.7/dist-packages (from protobuf!=3.11,>=3.6.0->streamlit) (1.15.0)\n",
            "Requirement already satisfied: ipywidgets>=7.0.0 in /usr/local/lib/python3.7/dist-packages (from pydeck>=0.1.dev5->streamlit) (7.6.3)\n",
            "Requirement already satisfied: traitlets>=4.3.2 in /usr/local/lib/python3.7/dist-packages (from pydeck>=0.1.dev5->streamlit) (5.0.5)\n",
            "Collecting ipykernel>=5.1.2\n",
            "  Downloading ipykernel-6.3.1-py3-none-any.whl (123 kB)\n",
            "\u001b[K     |████████████████████████████████| 123 kB 44.2 MB/s \n",
            "\u001b[?25hRequirement already satisfied: argcomplete>=1.12.3 in /usr/local/lib/python3.7/dist-packages (from ipykernel>=5.1.2->pydeck>=0.1.dev5->streamlit) (1.12.3)\n",
            "Requirement already satisfied: ipython-genutils in /usr/local/lib/python3.7/dist-packages (from ipykernel>=5.1.2->pydeck>=0.1.dev5->streamlit) (0.2.0)\n",
            "Requirement already satisfied: jupyter-client<8.0 in /usr/local/lib/python3.7/dist-packages (from ipykernel>=5.1.2->pydeck>=0.1.dev5->streamlit) (5.3.5)\n",
            "Requirement already satisfied: importlib-metadata<5 in /usr/local/lib/python3.7/dist-packages (from ipykernel>=5.1.2->pydeck>=0.1.dev5->streamlit) (4.6.4)\n",
            "Requirement already satisfied: debugpy<2.0,>=1.0.0 in /usr/local/lib/python3.7/dist-packages (from ipykernel>=5.1.2->pydeck>=0.1.dev5->streamlit) (1.0.0)\n",
            "Requirement already satisfied: matplotlib-inline<0.2.0,>=0.1.0 in /usr/local/lib/python3.7/dist-packages (from ipykernel>=5.1.2->pydeck>=0.1.dev5->streamlit) (0.1.2)\n",
            "Collecting ipython<8.0,>=7.23.1\n",
            "  Downloading ipython-7.27.0-py3-none-any.whl (787 kB)\n",
            "\u001b[K     |████████████████████████████████| 787 kB 40.9 MB/s \n",
            "\u001b[?25hRequirement already satisfied: zipp>=0.5 in /usr/local/lib/python3.7/dist-packages (from importlib-metadata<5->ipykernel>=5.1.2->pydeck>=0.1.dev5->streamlit) (3.5.0)\n",
            "Requirement already satisfied: jedi>=0.16 in /usr/local/lib/python3.7/dist-packages (from ipython<8.0,>=7.23.1->ipykernel>=5.1.2->pydeck>=0.1.dev5->streamlit) (0.18.0)\n",
            "Requirement already satisfied: setuptools>=18.5 in /usr/local/lib/python3.7/dist-packages (from ipython<8.0,>=7.23.1->ipykernel>=5.1.2->pydeck>=0.1.dev5->streamlit) (57.4.0)\n",
            "Requirement already satisfied: decorator in /usr/local/lib/python3.7/dist-packages (from ipython<8.0,>=7.23.1->ipykernel>=5.1.2->pydeck>=0.1.dev5->streamlit) (4.4.2)\n",
            "Requirement already satisfied: pygments in /usr/local/lib/python3.7/dist-packages (from ipython<8.0,>=7.23.1->ipykernel>=5.1.2->pydeck>=0.1.dev5->streamlit) (2.6.1)\n",
            "Requirement already satisfied: pickleshare in /usr/local/lib/python3.7/dist-packages (from ipython<8.0,>=7.23.1->ipykernel>=5.1.2->pydeck>=0.1.dev5->streamlit) (0.7.5)\n",
            "Requirement already satisfied: pexpect>4.3 in /usr/local/lib/python3.7/dist-packages (from ipython<8.0,>=7.23.1->ipykernel>=5.1.2->pydeck>=0.1.dev5->streamlit) (4.8.0)\n",
            "Requirement already satisfied: backcall in /usr/local/lib/python3.7/dist-packages (from ipython<8.0,>=7.23.1->ipykernel>=5.1.2->pydeck>=0.1.dev5->streamlit) (0.2.0)\n",
            "Collecting prompt-toolkit!=3.0.0,!=3.0.1,<3.1.0,>=2.0.0\n",
            "  Downloading prompt_toolkit-3.0.20-py3-none-any.whl (370 kB)\n",
            "\u001b[K     |████████████████████████████████| 370 kB 44.1 MB/s \n",
            "\u001b[?25hRequirement already satisfied: jupyterlab-widgets>=1.0.0 in /usr/local/lib/python3.7/dist-packages (from ipywidgets>=7.0.0->pydeck>=0.1.dev5->streamlit) (1.0.0)\n",
            "Requirement already satisfied: nbformat>=4.2.0 in /usr/local/lib/python3.7/dist-packages (from ipywidgets>=7.0.0->pydeck>=0.1.dev5->streamlit) (5.1.3)\n",
            "Requirement already satisfied: widgetsnbextension~=3.5.0 in /usr/local/lib/python3.7/dist-packages (from ipywidgets>=7.0.0->pydeck>=0.1.dev5->streamlit) (3.5.1)\n",
            "Requirement already satisfied: parso<0.9.0,>=0.8.0 in /usr/local/lib/python3.7/dist-packages (from jedi>=0.16->ipython<8.0,>=7.23.1->ipykernel>=5.1.2->pydeck>=0.1.dev5->streamlit) (0.8.2)\n",
            "Requirement already satisfied: MarkupSafe>=0.23 in /usr/local/lib/python3.7/dist-packages (from jinja2->altair>=3.2.0->streamlit) (2.0.1)\n",
            "Requirement already satisfied: jupyter-core>=4.6.0 in /usr/local/lib/python3.7/dist-packages (from jupyter-client<8.0->ipykernel>=5.1.2->pydeck>=0.1.dev5->streamlit) (4.7.1)\n",
            "Requirement already satisfied: pyzmq>=13 in /usr/local/lib/python3.7/dist-packages (from jupyter-client<8.0->ipykernel>=5.1.2->pydeck>=0.1.dev5->streamlit) (22.2.1)\n",
            "Requirement already satisfied: ptyprocess>=0.5 in /usr/local/lib/python3.7/dist-packages (from pexpect>4.3->ipython<8.0,>=7.23.1->ipykernel>=5.1.2->pydeck>=0.1.dev5->streamlit) (0.7.0)\n",
            "Requirement already satisfied: wcwidth in /usr/local/lib/python3.7/dist-packages (from prompt-toolkit!=3.0.0,!=3.0.1,<3.1.0,>=2.0.0->ipython<8.0,>=7.23.1->ipykernel>=5.1.2->pydeck>=0.1.dev5->streamlit) (0.2.5)\n",
            "Requirement already satisfied: notebook>=4.4.1 in /usr/local/lib/python3.7/dist-packages (from widgetsnbextension~=3.5.0->ipywidgets>=7.0.0->pydeck>=0.1.dev5->streamlit) (5.3.1)\n",
            "Requirement already satisfied: Send2Trash in /usr/local/lib/python3.7/dist-packages (from notebook>=4.4.1->widgetsnbextension~=3.5.0->ipywidgets>=7.0.0->pydeck>=0.1.dev5->streamlit) (1.8.0)\n",
            "Requirement already satisfied: terminado>=0.8.1 in /usr/local/lib/python3.7/dist-packages (from notebook>=4.4.1->widgetsnbextension~=3.5.0->ipywidgets>=7.0.0->pydeck>=0.1.dev5->streamlit) (0.11.0)\n",
            "Requirement already satisfied: nbconvert in /usr/local/lib/python3.7/dist-packages (from notebook>=4.4.1->widgetsnbextension~=3.5.0->ipywidgets>=7.0.0->pydeck>=0.1.dev5->streamlit) (5.6.1)\n",
            "Requirement already satisfied: bleach in /usr/local/lib/python3.7/dist-packages (from nbconvert->notebook>=4.4.1->widgetsnbextension~=3.5.0->ipywidgets>=7.0.0->pydeck>=0.1.dev5->streamlit) (4.0.0)\n",
            "Requirement already satisfied: mistune<2,>=0.8.1 in /usr/local/lib/python3.7/dist-packages (from nbconvert->notebook>=4.4.1->widgetsnbextension~=3.5.0->ipywidgets>=7.0.0->pydeck>=0.1.dev5->streamlit) (0.8.4)\n",
            "Requirement already satisfied: testpath in /usr/local/lib/python3.7/dist-packages (from nbconvert->notebook>=4.4.1->widgetsnbextension~=3.5.0->ipywidgets>=7.0.0->pydeck>=0.1.dev5->streamlit) (0.5.0)\n",
            "Requirement already satisfied: defusedxml in /usr/local/lib/python3.7/dist-packages (from nbconvert->notebook>=4.4.1->widgetsnbextension~=3.5.0->ipywidgets>=7.0.0->pydeck>=0.1.dev5->streamlit) (0.7.1)\n",
            "Requirement already satisfied: pandocfilters>=1.4.1 in /usr/local/lib/python3.7/dist-packages (from nbconvert->notebook>=4.4.1->widgetsnbextension~=3.5.0->ipywidgets>=7.0.0->pydeck>=0.1.dev5->streamlit) (1.4.3)\n",
            "Requirement already satisfied: webencodings in /usr/local/lib/python3.7/dist-packages (from bleach->nbconvert->notebook>=4.4.1->widgetsnbextension~=3.5.0->ipywidgets>=7.0.0->pydeck>=0.1.dev5->streamlit) (0.5.1)\n",
            "Requirement already satisfied: pyparsing>=2.0.2 in /usr/local/lib/python3.7/dist-packages (from packaging->streamlit) (2.4.7)\n",
            "Requirement already satisfied: urllib3!=1.25.0,!=1.25.1,<1.26,>=1.21.1 in /usr/local/lib/python3.7/dist-packages (from requests->streamlit) (1.24.3)\n",
            "Requirement already satisfied: idna<3,>=2.5 in /usr/local/lib/python3.7/dist-packages (from requests->streamlit) (2.10)\n",
            "Requirement already satisfied: certifi>=2017.4.17 in /usr/local/lib/python3.7/dist-packages (from requests->streamlit) (2021.5.30)\n",
            "Requirement already satisfied: chardet<4,>=3.0.2 in /usr/local/lib/python3.7/dist-packages (from requests->streamlit) (3.0.4)\n",
            "Building wheels for collected packages: blinker\n",
            "  Building wheel for blinker (setup.py) ... \u001b[?25l\u001b[?25hdone\n",
            "  Created wheel for blinker: filename=blinker-1.4-py3-none-any.whl size=13478 sha256=ab71e426913f1a3dc2935df10d0b4b2cf0d5023253438dcd451258e770439ffa\n",
            "  Stored in directory: /root/.cache/pip/wheels/22/f5/18/df711b66eb25b21325c132757d4314db9ac5e8dabeaf196eab\n",
            "Successfully built blinker\n",
            "Installing collected packages: prompt-toolkit, ipython, ipykernel, smmap, gitdb, watchdog, validators, pydeck, gitpython, blinker, base58, streamlit\n",
            "  Attempting uninstall: prompt-toolkit\n",
            "    Found existing installation: prompt-toolkit 1.0.18\n",
            "    Uninstalling prompt-toolkit-1.0.18:\n",
            "      Successfully uninstalled prompt-toolkit-1.0.18\n",
            "  Attempting uninstall: ipython\n",
            "    Found existing installation: ipython 5.5.0\n",
            "    Uninstalling ipython-5.5.0:\n",
            "      Successfully uninstalled ipython-5.5.0\n",
            "  Attempting uninstall: ipykernel\n",
            "    Found existing installation: ipykernel 4.10.1\n",
            "    Uninstalling ipykernel-4.10.1:\n",
            "      Successfully uninstalled ipykernel-4.10.1\n",
            "\u001b[31mERROR: pip's dependency resolver does not currently take into account all the packages that are installed. This behaviour is the source of the following dependency conflicts.\n",
            "jupyter-console 5.2.0 requires prompt-toolkit<2.0.0,>=1.0.0, but you have prompt-toolkit 3.0.20 which is incompatible.\n",
            "google-colab 1.0.0 requires ipykernel~=4.10, but you have ipykernel 6.3.1 which is incompatible.\n",
            "google-colab 1.0.0 requires ipython~=5.5.0, but you have ipython 7.27.0 which is incompatible.\u001b[0m\n",
            "Successfully installed base58-2.1.0 blinker-1.4 gitdb-4.0.7 gitpython-3.1.18 ipykernel-6.3.1 ipython-7.27.0 prompt-toolkit-3.0.20 pydeck-0.7.0 smmap-4.0.0 streamlit-0.88.0 validators-0.18.2 watchdog-2.1.5\n"
          ]
        },
        {
          "output_type": "display_data",
          "data": {
            "application/vnd.colab-display-data+json": {
              "pip_warning": {
                "packages": [
                  "IPython",
                  "ipykernel",
                  "prompt_toolkit"
                ]
              }
            }
          },
          "metadata": {}
        }
      ]
    },
    {
      "cell_type": "code",
      "metadata": {
        "colab": {
          "base_uri": "https://localhost:8080/"
        },
        "id": "X1oLTUibJnms",
        "outputId": "c3be8443-1d98-412a-f987-6c9fd68bab0a"
      },
      "source": [
        "!pip install pyngrok"
      ],
      "execution_count": 7,
      "outputs": [
        {
          "output_type": "stream",
          "name": "stdout",
          "text": [
            "Collecting pyngrok\n",
            "  Downloading pyngrok-5.1.0.tar.gz (745 kB)\n",
            "\u001b[?25l\r\u001b[K     |▍                               | 10 kB 30.1 MB/s eta 0:00:01\r\u001b[K     |▉                               | 20 kB 34.5 MB/s eta 0:00:01\r\u001b[K     |█▎                              | 30 kB 38.0 MB/s eta 0:00:01\r\u001b[K     |█▊                              | 40 kB 25.2 MB/s eta 0:00:01\r\u001b[K     |██▏                             | 51 kB 20.6 MB/s eta 0:00:01\r\u001b[K     |██▋                             | 61 kB 14.4 MB/s eta 0:00:01\r\u001b[K     |███                             | 71 kB 14.9 MB/s eta 0:00:01\r\u001b[K     |███▌                            | 81 kB 16.3 MB/s eta 0:00:01\r\u001b[K     |████                            | 92 kB 17.2 MB/s eta 0:00:01\r\u001b[K     |████▍                           | 102 kB 16.0 MB/s eta 0:00:01\r\u001b[K     |████▉                           | 112 kB 16.0 MB/s eta 0:00:01\r\u001b[K     |█████▎                          | 122 kB 16.0 MB/s eta 0:00:01\r\u001b[K     |█████▊                          | 133 kB 16.0 MB/s eta 0:00:01\r\u001b[K     |██████▏                         | 143 kB 16.0 MB/s eta 0:00:01\r\u001b[K     |██████▋                         | 153 kB 16.0 MB/s eta 0:00:01\r\u001b[K     |███████                         | 163 kB 16.0 MB/s eta 0:00:01\r\u001b[K     |███████▌                        | 174 kB 16.0 MB/s eta 0:00:01\r\u001b[K     |████████                        | 184 kB 16.0 MB/s eta 0:00:01\r\u001b[K     |████████▍                       | 194 kB 16.0 MB/s eta 0:00:01\r\u001b[K     |████████▉                       | 204 kB 16.0 MB/s eta 0:00:01\r\u001b[K     |█████████▎                      | 215 kB 16.0 MB/s eta 0:00:01\r\u001b[K     |█████████▊                      | 225 kB 16.0 MB/s eta 0:00:01\r\u001b[K     |██████████▏                     | 235 kB 16.0 MB/s eta 0:00:01\r\u001b[K     |██████████▌                     | 245 kB 16.0 MB/s eta 0:00:01\r\u001b[K     |███████████                     | 256 kB 16.0 MB/s eta 0:00:01\r\u001b[K     |███████████▍                    | 266 kB 16.0 MB/s eta 0:00:01\r\u001b[K     |███████████▉                    | 276 kB 16.0 MB/s eta 0:00:01\r\u001b[K     |████████████▎                   | 286 kB 16.0 MB/s eta 0:00:01\r\u001b[K     |████████████▊                   | 296 kB 16.0 MB/s eta 0:00:01\r\u001b[K     |█████████████▏                  | 307 kB 16.0 MB/s eta 0:00:01\r\u001b[K     |█████████████▋                  | 317 kB 16.0 MB/s eta 0:00:01\r\u001b[K     |██████████████                  | 327 kB 16.0 MB/s eta 0:00:01\r\u001b[K     |██████████████▌                 | 337 kB 16.0 MB/s eta 0:00:01\r\u001b[K     |███████████████                 | 348 kB 16.0 MB/s eta 0:00:01\r\u001b[K     |███████████████▍                | 358 kB 16.0 MB/s eta 0:00:01\r\u001b[K     |███████████████▉                | 368 kB 16.0 MB/s eta 0:00:01\r\u001b[K     |████████████████▎               | 378 kB 16.0 MB/s eta 0:00:01\r\u001b[K     |████████████████▊               | 389 kB 16.0 MB/s eta 0:00:01\r\u001b[K     |█████████████████▏              | 399 kB 16.0 MB/s eta 0:00:01\r\u001b[K     |█████████████████▋              | 409 kB 16.0 MB/s eta 0:00:01\r\u001b[K     |██████████████████              | 419 kB 16.0 MB/s eta 0:00:01\r\u001b[K     |██████████████████▌             | 430 kB 16.0 MB/s eta 0:00:01\r\u001b[K     |███████████████████             | 440 kB 16.0 MB/s eta 0:00:01\r\u001b[K     |███████████████████▍            | 450 kB 16.0 MB/s eta 0:00:01\r\u001b[K     |███████████████████▉            | 460 kB 16.0 MB/s eta 0:00:01\r\u001b[K     |████████████████████▎           | 471 kB 16.0 MB/s eta 0:00:01\r\u001b[K     |████████████████████▋           | 481 kB 16.0 MB/s eta 0:00:01\r\u001b[K     |█████████████████████           | 491 kB 16.0 MB/s eta 0:00:01\r\u001b[K     |█████████████████████▌          | 501 kB 16.0 MB/s eta 0:00:01\r\u001b[K     |██████████████████████          | 512 kB 16.0 MB/s eta 0:00:01\r\u001b[K     |██████████████████████▍         | 522 kB 16.0 MB/s eta 0:00:01\r\u001b[K     |██████████████████████▉         | 532 kB 16.0 MB/s eta 0:00:01\r\u001b[K     |███████████████████████▎        | 542 kB 16.0 MB/s eta 0:00:01\r\u001b[K     |███████████████████████▊        | 552 kB 16.0 MB/s eta 0:00:01\r\u001b[K     |████████████████████████▏       | 563 kB 16.0 MB/s eta 0:00:01\r\u001b[K     |████████████████████████▋       | 573 kB 16.0 MB/s eta 0:00:01\r\u001b[K     |█████████████████████████       | 583 kB 16.0 MB/s eta 0:00:01\r\u001b[K     |█████████████████████████▌      | 593 kB 16.0 MB/s eta 0:00:01\r\u001b[K     |██████████████████████████      | 604 kB 16.0 MB/s eta 0:00:01\r\u001b[K     |██████████████████████████▍     | 614 kB 16.0 MB/s eta 0:00:01\r\u001b[K     |██████████████████████████▉     | 624 kB 16.0 MB/s eta 0:00:01\r\u001b[K     |███████████████████████████▎    | 634 kB 16.0 MB/s eta 0:00:01\r\u001b[K     |███████████████████████████▊    | 645 kB 16.0 MB/s eta 0:00:01\r\u001b[K     |████████████████████████████▏   | 655 kB 16.0 MB/s eta 0:00:01\r\u001b[K     |████████████████████████████▋   | 665 kB 16.0 MB/s eta 0:00:01\r\u001b[K     |█████████████████████████████   | 675 kB 16.0 MB/s eta 0:00:01\r\u001b[K     |█████████████████████████████▌  | 686 kB 16.0 MB/s eta 0:00:01\r\u001b[K     |██████████████████████████████  | 696 kB 16.0 MB/s eta 0:00:01\r\u001b[K     |██████████████████████████████▍ | 706 kB 16.0 MB/s eta 0:00:01\r\u001b[K     |██████████████████████████████▊ | 716 kB 16.0 MB/s eta 0:00:01\r\u001b[K     |███████████████████████████████▏| 727 kB 16.0 MB/s eta 0:00:01\r\u001b[K     |███████████████████████████████▋| 737 kB 16.0 MB/s eta 0:00:01\r\u001b[K     |████████████████████████████████| 745 kB 16.0 MB/s \n",
            "\u001b[?25hRequirement already satisfied: PyYAML in /usr/local/lib/python3.7/dist-packages (from pyngrok) (3.13)\n",
            "Building wheels for collected packages: pyngrok\n",
            "  Building wheel for pyngrok (setup.py) ... \u001b[?25l\u001b[?25hdone\n",
            "  Created wheel for pyngrok: filename=pyngrok-5.1.0-py3-none-any.whl size=19006 sha256=5942b38f96e1be295af967dc86c1c0897eb5869f9baaa92dfb992faa22480ca7\n",
            "  Stored in directory: /root/.cache/pip/wheels/bf/e6/af/ccf6598ecefecd44104069371795cb9b3afbcd16987f6ccfb3\n",
            "Successfully built pyngrok\n",
            "Installing collected packages: pyngrok\n",
            "Successfully installed pyngrok-5.1.0\n"
          ]
        }
      ]
    },
    {
      "cell_type": "markdown",
      "metadata": {
        "id": "6oMSTbu514p3"
      },
      "source": [
        ""
      ]
    },
    {
      "cell_type": "code",
      "metadata": {
        "colab": {
          "base_uri": "https://localhost:8080/"
        },
        "id": "D9ZaEj9p1167",
        "outputId": "c75deb08-a95e-48f4-bbd0-6e201bf77692"
      },
      "source": [
        "%%writefile FakeNewsDetectionApp.py\n",
        "import streamlit as st"
      ],
      "execution_count": 36,
      "outputs": [
        {
          "output_type": "stream",
          "name": "stdout",
          "text": [
            "Overwriting FakeNewsDetectionApp.py\n"
          ]
        }
      ]
    },
    {
      "cell_type": "code",
      "metadata": {
        "colab": {
          "base_uri": "https://localhost:8080/"
        },
        "id": "xSROpt3Q4EbQ",
        "outputId": "78cb437f-48a8-4359-d6f3-c6a42e35816b"
      },
      "source": [
        "st.title(\"Fake News Detection App\")"
      ],
      "execution_count": 45,
      "outputs": [
        {
          "output_type": "execute_result",
          "data": {
            "text/plain": [
              "DeltaGenerator(_root_container=0, _provided_cursor=None, _parent=None, _block_type=None, _form_data=None)"
            ]
          },
          "metadata": {},
          "execution_count": 45
        }
      ]
    },
    {
      "cell_type": "code",
      "metadata": {
        "id": "lbxiLKxT48jS"
      },
      "source": [
        "def FakeNewsDetectionApp():\n",
        "  UserPrompt = st.text_area(\"Enter any News Headline:\")\n",
        "  if len(UserPrompt) < 1:\n",
        "    st.write(\"\")\n",
        "  else:\n",
        "    data = CV.transform([UserPrompt]).toarray()\n",
        "    output = model.predict(trform)\n",
        "    st.title(output)"
      ],
      "execution_count": 46,
      "outputs": []
    },
    {
      "cell_type": "code",
      "metadata": {
        "id": "k_t4S-nrPOtG"
      },
      "source": [
        "FakeNewsDetectionApp()"
      ],
      "execution_count": 47,
      "outputs": []
    },
    {
      "cell_type": "markdown",
      "metadata": {
        "id": "pme7tWZjQBsw"
      },
      "source": [
        "To check if the file was written to your current colab sandbox, you can use the list command: !ls"
      ]
    },
    {
      "cell_type": "code",
      "metadata": {
        "colab": {
          "base_uri": "https://localhost:8080/"
        },
        "id": "X7eGavpW7cdS",
        "outputId": "bd40dc78-f545-4ade-9c72-714c8f188c9a"
      },
      "source": [
        "!ls"
      ],
      "execution_count": 48,
      "outputs": [
        {
          "output_type": "stream",
          "name": "stdout",
          "text": [
            "FakeNewsDetectionApp.py  fake_or_real_news.csv\tsample_data\n"
          ]
        }
      ]
    },
    {
      "cell_type": "code",
      "metadata": {
        "colab": {
          "base_uri": "https://localhost:8080/"
        },
        "id": "kcTgaXoENhZv",
        "outputId": "81eb7004-4db9-454d-e7ce-4b02a9f1e4cd"
      },
      "source": [
        "!ngrok authtoken 1xjOwqfhIYba4MuIsIc0E2CBlp9_4AREXCqKShSr64Nmbv8n4"
      ],
      "execution_count": 49,
      "outputs": [
        {
          "output_type": "stream",
          "name": "stdout",
          "text": [
            "Authtoken saved to configuration file: /root/.ngrok2/ngrok.yml\n"
          ]
        }
      ]
    },
    {
      "cell_type": "markdown",
      "metadata": {
        "id": "ShLRXtDWQVeH"
      },
      "source": [
        "linux command for running processes in the background. specifying that Streamlit should start a server on port 80:"
      ]
    },
    {
      "cell_type": "code",
      "metadata": {
        "id": "lgJMjfDiKkG9"
      },
      "source": [
        "!streamlit run --server.port 80 FakeNewsDetectionApp.py &>/dev/null&"
      ],
      "execution_count": 50,
      "outputs": []
    },
    {
      "cell_type": "markdown",
      "metadata": {
        "id": "wokgT1mRQifJ"
      },
      "source": [
        "To create our tunnel we will be using pyngrok and passing in the port from streamlit (ie 8501) "
      ]
    },
    {
      "cell_type": "code",
      "metadata": {
        "colab": {
          "base_uri": "https://localhost:8080/"
        },
        "id": "OjwTmCO5K58v",
        "outputId": "21d99e33-848f-49db-db71-393601f662ae"
      },
      "source": [
        "from pyngrok import ngrok\n",
        "\n",
        "# Setup a tunnel to the streamlit port 8501\n",
        "public_url = ngrok.connect(port='8501')\n",
        "public_url"
      ],
      "execution_count": 51,
      "outputs": [
        {
          "output_type": "stream",
          "name": "stderr",
          "text": [
            "2021-09-05 18:35:44.333 Opening tunnel named: http-80-05b44311-fd4e-4ee9-8889-94d16bbb22ed\n",
            "2021-09-05 18:35:44.363 t=2021-09-05T18:35:44+0000 lvl=info msg=\"no configuration paths supplied\"\n",
            "2021-09-05 18:35:44.367 t=2021-09-05T18:35:44+0000 lvl=info msg=\"using configuration at default config path\" path=/root/.ngrok2/ngrok.yml\n",
            "2021-09-05 18:35:44.369 t=2021-09-05T18:35:44+0000 lvl=info msg=\"open config file\" path=/root/.ngrok2/ngrok.yml err=nil\n",
            "2021-09-05 18:35:44.377 t=2021-09-05T18:35:44+0000 lvl=info msg=\"starting web service\" obj=web addr=127.0.0.1:4040\n",
            "2021-09-05 18:35:44.686 t=2021-09-05T18:35:44+0000 lvl=info msg=\"tunnel session started\" obj=tunnels.session\n",
            "2021-09-05 18:35:44.689 t=2021-09-05T18:35:44+0000 lvl=info msg=\"client session established\" obj=csess id=7b241cc1e22b\n",
            "2021-09-05 18:35:44.695 t=2021-09-05T18:35:44+0000 lvl=info msg=start pg=/api/tunnels id=9b078441f27f0700\n",
            "2021-09-05 18:35:44.698 t=2021-09-05T18:35:44+0000 lvl=info msg=end pg=/api/tunnels id=9b078441f27f0700 status=200 dur=366.287µs\n",
            "2021-09-05 18:35:44.700 t=2021-09-05T18:35:44+0000 lvl=info msg=start pg=/api/tunnels id=665010029ad4973e\n",
            "2021-09-05 18:35:44.706 t=2021-09-05T18:35:44+0000 lvl=info msg=end pg=/api/tunnels id=665010029ad4973e status=200 dur=2.89786ms\n",
            "2021-09-05 18:35:44.710 t=2021-09-05T18:35:44+0000 lvl=info msg=start pg=/api/tunnels id=66afe986a5b456cd\n",
            "2021-09-05 18:35:44.914 t=2021-09-05T18:35:44+0000 lvl=info msg=\"started tunnel\" obj=tunnels name=\"http-80-05b44311-fd4e-4ee9-8889-94d16bbb22ed (http)\" addr=http://localhost:80 url=http://3e0b-34-91-118-134.ngrok.io\n",
            "2021-09-05 18:35:44.916 t=2021-09-05T18:35:44+0000 lvl=info msg=\"started tunnel\" obj=tunnels name=http-80-05b44311-fd4e-4ee9-8889-94d16bbb22ed addr=http://localhost:80 url=https://3e0b-34-91-118-134.ngrok.io\n",
            "2021-09-05 18:35:44.923 t=2021-09-05T18:35:44+0000 lvl=info msg=end pg=/api/tunnels id=66afe986a5b456cd status=201 dur=211.651933ms\n",
            "2021-09-05 18:35:44.925 t=2021-09-05T18:35:44+0000 lvl=info msg=start pg=\"/api/tunnels/http-80-05b44311-fd4e-4ee9-8889-94d16bbb22ed (http)\" id=e957e803f7b25784\n",
            "2021-09-05 18:35:44.926 t=2021-09-05T18:35:44+0000 lvl=info msg=end pg=\"/api/tunnels/http-80-05b44311-fd4e-4ee9-8889-94d16bbb22ed (http)\" id=e957e803f7b25784 status=200 dur=185.597µs\n"
          ]
        },
        {
          "output_type": "execute_result",
          "data": {
            "text/plain": [
              "<NgrokTunnel: \"http://3e0b-34-91-118-134.ngrok.io\" -> \"http://localhost:80\">"
            ]
          },
          "metadata": {},
          "execution_count": 51
        }
      ]
    },
    {
      "cell_type": "code",
      "metadata": {
        "colab": {
          "base_uri": "https://localhost:8080/"
        },
        "id": "KdrPaXjwLzDR",
        "outputId": "7d3d1cc7-41e0-4e33-a122-987a92d4920f"
      },
      "source": [
        "!pgrep streamlit"
      ],
      "execution_count": 43,
      "outputs": [
        {
          "output_type": "stream",
          "name": "stdout",
          "text": [
            "1063\n",
            "1145\n",
            "1189\n",
            "1248\n"
          ]
        }
      ]
    },
    {
      "cell_type": "markdown",
      "metadata": {
        "id": "kazLZ7ZyQvUq"
      },
      "source": [
        "Shutdown ngrok from python using the kill function"
      ]
    },
    {
      "cell_type": "code",
      "metadata": {
        "colab": {
          "base_uri": "https://localhost:8080/"
        },
        "id": "9jJfVP2XL2Sf",
        "outputId": "18ac3db3-efa7-43d0-c302-dbad6ff56240"
      },
      "source": [
        "ngrok.kill()"
      ],
      "execution_count": 44,
      "outputs": [
        {
          "output_type": "stream",
          "name": "stderr",
          "text": [
            "2021-09-05 18:34:46.064 Killing ngrok process: 1260\n"
          ]
        }
      ]
    }
  ]
}